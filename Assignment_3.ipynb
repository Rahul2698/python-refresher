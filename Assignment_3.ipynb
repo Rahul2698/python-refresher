{
 "cells": [
  {
   "cell_type": "markdown",
   "id": "589d186a",
   "metadata": {},
   "source": [
    "1. Why are functions advantageous to have in your programs?"
   ]
  },
  {
   "cell_type": "code",
   "execution_count": 1,
   "id": "edb709a7",
   "metadata": {},
   "outputs": [],
   "source": [
    "# We are using functions in our program, so that we can:\n",
    "# Reducd duplication of code and functions can be reuse as many time as we want\n",
    "# Spliting down large problems into simpler pieces\n",
    "# Improving clarity of the code etc."
   ]
  },
  {
   "cell_type": "markdown",
   "id": "6ed9c44e",
   "metadata": {},
   "source": [
    "2. When does the code in a function run: when it&#39;s specified or when it&#39;s called?"
   ]
  },
  {
   "cell_type": "code",
   "execution_count": 2,
   "id": "74859a8e",
   "metadata": {},
   "outputs": [],
   "source": [
    "# When it's called"
   ]
  },
  {
   "cell_type": "markdown",
   "id": "9d74683d",
   "metadata": {},
   "source": [
    "3. What statement creates a function?"
   ]
  },
  {
   "cell_type": "code",
   "execution_count": 3,
   "id": "8f4dcba2",
   "metadata": {},
   "outputs": [],
   "source": [
    "# by using 'def' keyword"
   ]
  },
  {
   "cell_type": "markdown",
   "id": "b26afe5d",
   "metadata": {},
   "source": [
    "4. What is the difference between a function and a function call?"
   ]
  },
  {
   "cell_type": "code",
   "execution_count": 4,
   "id": "c3b7eb1a",
   "metadata": {},
   "outputs": [],
   "source": [
    "# function is like, where we define what to perfrom with that function\n",
    "# function call is like when actually that function going to execute"
   ]
  },
  {
   "cell_type": "markdown",
   "id": "6772e879",
   "metadata": {},
   "source": [
    "5. How many global scopes are there in a Python program? How many local scopes?"
   ]
  },
  {
   "cell_type": "code",
   "execution_count": 5,
   "id": "0763769f",
   "metadata": {},
   "outputs": [],
   "source": [
    "# One global scope is there in python\n",
    "# as many as we want local scope (depending upon number of function, for, while block etc.)"
   ]
  },
  {
   "cell_type": "markdown",
   "id": "cc7fe95d",
   "metadata": {},
   "source": [
    "6. What happens to variables in a local scope when the function call returns?"
   ]
  },
  {
   "cell_type": "code",
   "execution_count": 6,
   "id": "721e5f1e",
   "metadata": {},
   "outputs": [],
   "source": [
    "# When function call returns, local scope released from the memory"
   ]
  },
  {
   "cell_type": "markdown",
   "id": "8e3a8108",
   "metadata": {},
   "source": [
    "7. What is the concept of a return value? Is it possible to have a return value in an expression?"
   ]
  },
  {
   "cell_type": "code",
   "execution_count": 7,
   "id": "cf4a5321",
   "metadata": {},
   "outputs": [],
   "source": [
    "# In function we can return something according to our need, when return executes we are come out from that function\n",
    "# Yes, we can return value in an expression"
   ]
  },
  {
   "cell_type": "markdown",
   "id": "79b0ce0e",
   "metadata": {},
   "source": [
    "8. If a function does not have a return statement, what is the return value of a call to that function?"
   ]
  },
  {
   "cell_type": "code",
   "execution_count": 8,
   "id": "c58bbf96",
   "metadata": {},
   "outputs": [],
   "source": [
    "# None"
   ]
  },
  {
   "cell_type": "markdown",
   "id": "c6666b44",
   "metadata": {},
   "source": [
    "9. How do you make a function variable refer to the global variable?"
   ]
  },
  {
   "cell_type": "code",
   "execution_count": 9,
   "id": "c0794b5a",
   "metadata": {},
   "outputs": [],
   "source": [
    "# for that we have to use 'global' keyword before that variable"
   ]
  },
  {
   "cell_type": "markdown",
   "id": "12acc300",
   "metadata": {},
   "source": [
    "10. What is the data type of None?"
   ]
  },
  {
   "cell_type": "code",
   "execution_count": 10,
   "id": "e7eb26a4",
   "metadata": {},
   "outputs": [],
   "source": [
    "# NoneType"
   ]
  },
  {
   "cell_type": "markdown",
   "id": "25a67ca3",
   "metadata": {},
   "source": [
    "11. What does the sentence import areallyourpetsnamederic do?"
   ]
  },
  {
   "cell_type": "code",
   "execution_count": 11,
   "id": "d092cdae",
   "metadata": {},
   "outputs": [],
   "source": [
    "# This sentence imports the module \"areallyourpetsnamederic\""
   ]
  },
  {
   "cell_type": "markdown",
   "id": "b1148b99",
   "metadata": {},
   "source": [
    "12. If you had a bacon() feature in a spam module, what would you call it after importing spam?"
   ]
  },
  {
   "cell_type": "code",
   "execution_count": 12,
   "id": "8ed35cd2",
   "metadata": {},
   "outputs": [],
   "source": [
    "# spam.bacon()"
   ]
  },
  {
   "cell_type": "markdown",
   "id": "be12a1d8",
   "metadata": {},
   "source": [
    "13. What can you do to save a programme from crashing if it encounters an error?"
   ]
  },
  {
   "cell_type": "code",
   "execution_count": 13,
   "id": "69812937",
   "metadata": {},
   "outputs": [],
   "source": [
    "# we have to do Error Handling"
   ]
  },
  {
   "cell_type": "markdown",
   "id": "88182322",
   "metadata": {},
   "source": [
    "14. What is the purpose of the try clause? What is the purpose of the except clause?"
   ]
  },
  {
   "cell_type": "code",
   "execution_count": 14,
   "id": "99c0292b",
   "metadata": {},
   "outputs": [],
   "source": [
    "# You are using try clause, so that we can handle errors (for error handing purpose)\n",
    "# the code inside the except block will execute whenever the program encounters some error in the preceding try block"
   ]
  }
 ],
 "metadata": {
  "kernelspec": {
   "display_name": "Python 3 (ipykernel)",
   "language": "python",
   "name": "python3"
  },
  "language_info": {
   "codemirror_mode": {
    "name": "ipython",
    "version": 3
   },
   "file_extension": ".py",
   "mimetype": "text/x-python",
   "name": "python",
   "nbconvert_exporter": "python",
   "pygments_lexer": "ipython3",
   "version": "3.9.12"
  }
 },
 "nbformat": 4,
 "nbformat_minor": 5
}
