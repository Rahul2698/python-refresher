{
 "cells": [
  {
   "cell_type": "markdown",
   "id": "b3381996",
   "metadata": {},
   "source": [
    "1. What exactly is []?"
   ]
  },
  {
   "cell_type": "code",
   "execution_count": 1,
   "id": "2670bc95",
   "metadata": {},
   "outputs": [],
   "source": [
    "# [] is empty list value, which is a list value that contains no items."
   ]
  },
  {
   "cell_type": "markdown",
   "id": "a6f887bd",
   "metadata": {},
   "source": [
    "2. In a list of values stored in a variable called spam, how would you assign the value &#39;hello&#39; as the\n",
    "third value? (Assume [2, 4, 6, 8, 10] are in spam.)"
   ]
  },
  {
   "cell_type": "code",
   "execution_count": 2,
   "id": "1975d548",
   "metadata": {},
   "outputs": [],
   "source": [
    "spam = [2, 4, 6, 8, 10]"
   ]
  },
  {
   "cell_type": "code",
   "execution_count": 3,
   "id": "aee1940e",
   "metadata": {},
   "outputs": [],
   "source": [
    "spam.insert(2,'hello')"
   ]
  },
  {
   "cell_type": "code",
   "execution_count": 4,
   "id": "f0dbbb8c",
   "metadata": {},
   "outputs": [
    {
     "data": {
      "text/plain": [
       "[2, 4, 'hello', 6, 8, 10]"
      ]
     },
     "execution_count": 4,
     "metadata": {},
     "output_type": "execute_result"
    }
   ],
   "source": [
    "spam"
   ]
  },
  {
   "cell_type": "markdown",
   "id": "5b96611b",
   "metadata": {},
   "source": [
    "Let&#39;s pretend the spam includes the list [&#39;a&#39;, &#39;b&#39;, &#39;c&#39;, &#39;d&#39;] for the next three queries."
   ]
  },
  {
   "cell_type": "code",
   "execution_count": 5,
   "id": "07106e0b",
   "metadata": {},
   "outputs": [],
   "source": [
    "spam.extend('abcd')"
   ]
  },
  {
   "cell_type": "code",
   "execution_count": 6,
   "id": "74dd8d18",
   "metadata": {},
   "outputs": [
    {
     "data": {
      "text/plain": [
       "[2, 4, 'hello', 6, 8, 10, 'a', 'b', 'c', 'd']"
      ]
     },
     "execution_count": 6,
     "metadata": {},
     "output_type": "execute_result"
    }
   ],
   "source": [
    "spam"
   ]
  },
  {
   "cell_type": "markdown",
   "id": "d95e10be",
   "metadata": {},
   "source": [
    "3. What is the value of spam[int(int(&#39;3&#39; * 2) / 11)]?"
   ]
  },
  {
   "cell_type": "code",
   "execution_count": 7,
   "id": "08806359",
   "metadata": {},
   "outputs": [
    {
     "data": {
      "text/plain": [
       "3"
      ]
     },
     "execution_count": 7,
     "metadata": {},
     "output_type": "execute_result"
    }
   ],
   "source": [
    "int(int('3'*2)/11)"
   ]
  },
  {
   "cell_type": "code",
   "execution_count": 8,
   "id": "e693f82a",
   "metadata": {},
   "outputs": [
    {
     "data": {
      "text/plain": [
       "6"
      ]
     },
     "execution_count": 8,
     "metadata": {},
     "output_type": "execute_result"
    }
   ],
   "source": [
    "spam[int(int('3'*2)/11)]"
   ]
  },
  {
   "cell_type": "markdown",
   "id": "d053a54d",
   "metadata": {},
   "source": [
    "4. What is the value of spam[-1]?"
   ]
  },
  {
   "cell_type": "code",
   "execution_count": 9,
   "id": "a604cc81",
   "metadata": {},
   "outputs": [
    {
     "data": {
      "text/plain": [
       "'d'"
      ]
     },
     "execution_count": 9,
     "metadata": {},
     "output_type": "execute_result"
    }
   ],
   "source": [
    "spam[-1] #extracting very last item from the list"
   ]
  },
  {
   "cell_type": "markdown",
   "id": "e70f4c3d",
   "metadata": {},
   "source": [
    "5. What is the value of spam[:2]?"
   ]
  },
  {
   "cell_type": "code",
   "execution_count": 10,
   "id": "1e508fda",
   "metadata": {},
   "outputs": [
    {
     "data": {
      "text/plain": [
       "[2, 4]"
      ]
     },
     "execution_count": 10,
     "metadata": {},
     "output_type": "execute_result"
    }
   ],
   "source": [
    "spam[:2] #starting from beginning index (0), till index 2 (but excluding 2), means index:0,1"
   ]
  },
  {
   "cell_type": "markdown",
   "id": "1f0665d4",
   "metadata": {},
   "source": [
    "Let&#39;s pretend bacon has the list [3.14, &#39;cat,&#39; 11, &#39;cat,&#39; True] for the next three questions."
   ]
  },
  {
   "cell_type": "code",
   "execution_count": 11,
   "id": "dc4cec7f",
   "metadata": {},
   "outputs": [],
   "source": [
    "bacon = [3.14, 'cat', 11, 'cat', True]"
   ]
  },
  {
   "cell_type": "code",
   "execution_count": 12,
   "id": "861c5094",
   "metadata": {},
   "outputs": [
    {
     "data": {
      "text/plain": [
       "[3.14, 'cat', 11, 'cat', True]"
      ]
     },
     "execution_count": 12,
     "metadata": {},
     "output_type": "execute_result"
    }
   ],
   "source": [
    "bacon"
   ]
  },
  {
   "cell_type": "markdown",
   "id": "bab7c63e",
   "metadata": {},
   "source": [
    "6. What is the value of bacon.index(&#39;cat&#39;)?"
   ]
  },
  {
   "cell_type": "code",
   "execution_count": 13,
   "id": "fe2b9b70",
   "metadata": {},
   "outputs": [
    {
     "data": {
      "text/plain": [
       "1"
      ]
     },
     "execution_count": 13,
     "metadata": {},
     "output_type": "execute_result"
    }
   ],
   "source": [
    "bacon.index('cat') # it returns the index for the first occurrence of the provided value"
   ]
  },
  {
   "cell_type": "markdown",
   "id": "e7e32802",
   "metadata": {},
   "source": [
    "7. How does bacon.append(99) change the look of the list value in bacon?"
   ]
  },
  {
   "cell_type": "code",
   "execution_count": 14,
   "id": "ddb62207",
   "metadata": {},
   "outputs": [],
   "source": [
    "bacon.append(99) #it will append value 99 at the very end (as a last value)"
   ]
  },
  {
   "cell_type": "code",
   "execution_count": 15,
   "id": "da863924",
   "metadata": {},
   "outputs": [
    {
     "data": {
      "text/plain": [
       "[3.14, 'cat', 11, 'cat', True, 99]"
      ]
     },
     "execution_count": 15,
     "metadata": {},
     "output_type": "execute_result"
    }
   ],
   "source": [
    "bacon"
   ]
  },
  {
   "cell_type": "markdown",
   "id": "bef3d5b6",
   "metadata": {},
   "source": [
    "8. How does bacon.remove(&#39;cat&#39;) change the look of the list in bacon?"
   ]
  },
  {
   "cell_type": "code",
   "execution_count": 16,
   "id": "f10409b1",
   "metadata": {},
   "outputs": [],
   "source": [
    "bacon.remove('cat') # it will remove that value, which occurs first, here at index 1 value will be removing"
   ]
  },
  {
   "cell_type": "code",
   "execution_count": 17,
   "id": "2add9ec7",
   "metadata": {},
   "outputs": [
    {
     "data": {
      "text/plain": [
       "[3.14, 11, 'cat', True, 99]"
      ]
     },
     "execution_count": 17,
     "metadata": {},
     "output_type": "execute_result"
    }
   ],
   "source": [
    "bacon"
   ]
  },
  {
   "cell_type": "markdown",
   "id": "20757de2",
   "metadata": {},
   "source": [
    "9. What are the list concatenation and list replication operators?"
   ]
  },
  {
   "cell_type": "code",
   "execution_count": 18,
   "id": "be0cb0c3",
   "metadata": {},
   "outputs": [],
   "source": [
    "# The operator for list concatenation is +, while the operator for replication is *"
   ]
  },
  {
   "cell_type": "markdown",
   "id": "1196dde2",
   "metadata": {},
   "source": [
    "10. What is difference between the list methods append() and insert()?"
   ]
  },
  {
   "cell_type": "code",
   "execution_count": 19,
   "id": "8818f3e9",
   "metadata": {},
   "outputs": [],
   "source": [
    "# append() always appended value at the end of the list\n",
    "# insert() here we can insert value at any position where ever we want (we will provide index position as a parameter)"
   ]
  },
  {
   "cell_type": "markdown",
   "id": "0f636f52",
   "metadata": {},
   "source": [
    "11. What are the two methods for removing items from a list?"
   ]
  },
  {
   "cell_type": "code",
   "execution_count": 20,
   "id": "7e7d6c3f",
   "metadata": {},
   "outputs": [],
   "source": [
    "# pop()\n",
    "# remove()"
   ]
  },
  {
   "cell_type": "markdown",
   "id": "064bedec",
   "metadata": {},
   "source": [
    "12. Describe how list values and string values are identical."
   ]
  },
  {
   "cell_type": "code",
   "execution_count": 21,
   "id": "38aa7d1d",
   "metadata": {},
   "outputs": [],
   "source": [
    "# The similarity between Lists and Strings in Python is that both are sequences.\n",
    "# Both are iterable, but not iterator\n",
    "\n",
    "# The differences between them are that firstly, Lists are mutable but Strings are immutable. \n",
    "# Secondly, elements of a list can be of different types whereas a String only contains characters that are all of String type."
   ]
  },
  {
   "cell_type": "markdown",
   "id": "724aba38",
   "metadata": {},
   "source": [
    "13. What&#39;s the difference between tuples and lists?"
   ]
  },
  {
   "cell_type": "code",
   "execution_count": 22,
   "id": "873790a4",
   "metadata": {},
   "outputs": [],
   "source": [
    "# For creating list we have to use square brackets [], but for tuples we have to use parenthesis ()\n",
    "# Lists are mutable object, where as Tuples are immutable object. "
   ]
  },
  {
   "cell_type": "markdown",
   "id": "c162a7af",
   "metadata": {},
   "source": [
    "14. How do you type a tuple value that only contains the integer 42?"
   ]
  },
  {
   "cell_type": "code",
   "execution_count": 25,
   "id": "7eba42ad",
   "metadata": {},
   "outputs": [],
   "source": [
    "t = (42,)"
   ]
  },
  {
   "cell_type": "code",
   "execution_count": 30,
   "id": "63585cfc",
   "metadata": {},
   "outputs": [
    {
     "data": {
      "text/plain": [
       "tuple"
      ]
     },
     "execution_count": 30,
     "metadata": {},
     "output_type": "execute_result"
    }
   ],
   "source": [
    "type(t)"
   ]
  },
  {
   "cell_type": "markdown",
   "id": "f9c8a1b7",
   "metadata": {},
   "source": [
    "15. How do you get a list value&#39;s tuple form? How do you get a tuple value&#39;s list form?"
   ]
  },
  {
   "cell_type": "code",
   "execution_count": null,
   "id": "fc1fe7de",
   "metadata": {},
   "outputs": [],
   "source": [
    "tuple() # to convert list value's tuple form\n",
    "list() # to convert tuple value's list form"
   ]
  },
  {
   "cell_type": "markdown",
   "id": "3c864e27",
   "metadata": {},
   "source": [
    "16. Variables that &quot;contain&quot; list values are not necessarily lists themselves. Instead, what do they\n",
    "contain?"
   ]
  },
  {
   "cell_type": "code",
   "execution_count": 31,
   "id": "2d172b8f",
   "metadata": {},
   "outputs": [],
   "source": [
    "# references to list values"
   ]
  },
  {
   "cell_type": "markdown",
   "id": "805a0013",
   "metadata": {},
   "source": [
    "17. How do you distinguish between copy.copy() and copy.deepcopy()?"
   ]
  },
  {
   "cell_type": "code",
   "execution_count": 32,
   "id": "7b6c2b33",
   "metadata": {},
   "outputs": [],
   "source": [
    "# copy.copy() create reference to original object. If you change copied object - you change the original object. \n",
    "\n",
    "# copy.deepcopy() creates new object and does real copying of original object to new one. \n",
    "# Changing new deepcopied object doesn't affect original object."
   ]
  },
  {
   "cell_type": "code",
   "execution_count": null,
   "id": "544d734a",
   "metadata": {},
   "outputs": [],
   "source": []
  }
 ],
 "metadata": {
  "kernelspec": {
   "display_name": "Python 3 (ipykernel)",
   "language": "python",
   "name": "python3"
  },
  "language_info": {
   "codemirror_mode": {
    "name": "ipython",
    "version": 3
   },
   "file_extension": ".py",
   "mimetype": "text/x-python",
   "name": "python",
   "nbconvert_exporter": "python",
   "pygments_lexer": "ipython3",
   "version": "3.9.12"
  }
 },
 "nbformat": 4,
 "nbformat_minor": 5
}
