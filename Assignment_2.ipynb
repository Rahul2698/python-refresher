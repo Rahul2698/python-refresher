{
 "cells": [
  {
   "cell_type": "markdown",
   "id": "2bec192d",
   "metadata": {},
   "source": [
    "1.What are the two values of the Boolean data type? How do you write them?"
   ]
  },
  {
   "cell_type": "code",
   "execution_count": 1,
   "id": "50de52fc",
   "metadata": {},
   "outputs": [],
   "source": [
    "# True and False\n",
    "# in python both of the value's first letter should be capital (These 'True' and 'False' are reserved keyword)"
   ]
  },
  {
   "cell_type": "markdown",
   "id": "aa506e93",
   "metadata": {},
   "source": [
    "2. What are the three different types of Boolean operators?"
   ]
  },
  {
   "cell_type": "code",
   "execution_count": 2,
   "id": "93172cd3",
   "metadata": {},
   "outputs": [],
   "source": [
    "# and\n",
    "# or\n",
    "# not"
   ]
  },
  {
   "cell_type": "markdown",
   "id": "e517b5ea",
   "metadata": {},
   "source": [
    "3. Make a list of each Boolean operator&#39;s truth tables (i.e. every possible combination of Boolean\n",
    "values for the operator and what it evaluate )."
   ]
  },
  {
   "cell_type": "code",
   "execution_count": 3,
   "id": "32fe11ff",
   "metadata": {},
   "outputs": [],
   "source": [
    "# Boolean-Value     Boolean-Value     AND    OR    \n",
    "#     False            False        False   False\n",
    "#     False            True         False   True\n",
    "#     True             False        False   True\n",
    "#     True             True         True    True\n",
    "\n",
    "\n",
    "# For not- operator (it is unary operator)\n",
    "# not False   =>    True\n",
    "# not True    =>    False"
   ]
  },
  {
   "cell_type": "markdown",
   "id": "4f909b4b",
   "metadata": {},
   "source": [
    "4. What are the values of the following expressions?"
   ]
  },
  {
   "cell_type": "code",
   "execution_count": 5,
   "id": "d4226f8f",
   "metadata": {},
   "outputs": [],
   "source": [
    "# (5 > 4) and (3 == 5) => False\n",
    "# not (5 > 4) => False\n",
    "# (5 > 4) or (3 == 5) => True\n",
    "# not ((5 > 4) or (3 == 5)) => False\n",
    "# (True and True) and (True == False) => False\n",
    "# (not False) or (not True) => True"
   ]
  },
  {
   "cell_type": "markdown",
   "id": "080c1ec4",
   "metadata": {},
   "source": [
    "5. What are the six comparison operators?"
   ]
  },
  {
   "cell_type": "code",
   "execution_count": 12,
   "id": "e1292335",
   "metadata": {},
   "outputs": [],
   "source": [
    "# 1. >\n",
    "# 2. >=\n",
    "# 3. <\n",
    "# 4. <=\n",
    "# 5. ==\n",
    "# 6. !="
   ]
  },
  {
   "cell_type": "markdown",
   "id": "f4ad4e55",
   "metadata": {},
   "source": [
    "6. How do you tell the difference between the equal to and assignment operators?Describe a\n",
    "condition and when you would use one."
   ]
  },
  {
   "cell_type": "code",
   "execution_count": 13,
   "id": "52efb2dd",
   "metadata": {},
   "outputs": [],
   "source": [
    "# Equal to (==) is a comparison operator, which basically used to check whether two values are equal or not.\n",
    "# But Assignment (=) operator is used to assign some value to a variable.\n",
    "\n",
    "# Example: num = 10 (Here 'num' is a variable, by using that assignment operator value 10 is assigned to 'num')\n",
    "# Now, num == 10 (Here equal to operator is going to compare what ever value is available to 'num' variable with value 10, \n",
    "                # and accordingly True or False it returns.)"
   ]
  },
  {
   "cell_type": "markdown",
   "id": "ef08220a",
   "metadata": {},
   "source": [
    "7. Identify the three blocks in this code:"
   ]
  },
  {
   "cell_type": "code",
   "execution_count": 14,
   "id": "f2865d08",
   "metadata": {},
   "outputs": [
    {
     "name": "stdout",
     "output_type": "stream",
     "text": [
      "ham\n",
      "spam\n",
      "spam\n"
     ]
    }
   ],
   "source": [
    "spam = 0 # Block - 1\n",
    "\n",
    "if spam == 10: # Block - 2\n",
    "    print('eggs')\n",
    "    \n",
    "if spam > 5: # Block - 3\n",
    "    print('bacon')\n",
    "else:\n",
    "    print('ham')\n",
    "    print('spam')\n",
    "    print('spam')"
   ]
  },
  {
   "cell_type": "markdown",
   "id": "5a10c0eb",
   "metadata": {},
   "source": [
    "8. Write code that prints Hello if 1 is stored in spam, prints Howdy if 2 is stored in spam, and prints\n",
    "Greetings! if anything else is stored in spam."
   ]
  },
  {
   "cell_type": "code",
   "execution_count": 15,
   "id": "dcdd7a36",
   "metadata": {},
   "outputs": [
    {
     "name": "stdout",
     "output_type": "stream",
     "text": [
      "Hello\n"
     ]
    }
   ],
   "source": [
    "spam = 1\n",
    "\n",
    "if(spam == 1):\n",
    "    print(\"Hello\")\n",
    "elif(spam == 2):\n",
    "    print(\"Howdy\")\n",
    "else:\n",
    "    print(\"Greetings!\")"
   ]
  },
  {
   "cell_type": "markdown",
   "id": "9e733bf5",
   "metadata": {},
   "source": [
    "9.If your programme is stuck in an endless loop, what keys you’ll press?"
   ]
  },
  {
   "cell_type": "code",
   "execution_count": 16,
   "id": "7d33689d",
   "metadata": {},
   "outputs": [],
   "source": [
    "# ctrl + c"
   ]
  },
  {
   "cell_type": "markdown",
   "id": "28fb1412",
   "metadata": {},
   "source": [
    "10. How can you tell the difference between break and continue?"
   ]
  },
  {
   "cell_type": "code",
   "execution_count": 17,
   "id": "310dfff1",
   "metadata": {},
   "outputs": [],
   "source": [
    "# break: is used if we want to come out from the loop\n",
    "# continue: is used if we want to execute the loop agign from the beginning"
   ]
  },
  {
   "cell_type": "markdown",
   "id": "5d8548dc",
   "metadata": {},
   "source": [
    "11. In a for loop, what is the difference between range(10), range(0, 10), and range(0, 10, 1)?"
   ]
  },
  {
   "cell_type": "code",
   "execution_count": 18,
   "id": "89487553",
   "metadata": {},
   "outputs": [],
   "source": [
    "# range(10) : here stop value only provided, so loop will start from 0 and going till 10 (but excluding 10)\n",
    "# range(0, 10) : here start and stop value provided, so loop will start from 0 and going till 10 (but excluding 10)\n",
    "# range(0, 10, 1): here all start, stop and step value provided, so loop will start from 0 and going till 10 (but excluding 10)\n",
    "\n",
    "# Note: all are executing total 10 times from 0 to 9, because default value of start is 0 and step is 1"
   ]
  },
  {
   "cell_type": "markdown",
   "id": "08d6f5f4",
   "metadata": {},
   "source": [
    "12. Write a short program that prints the numbers 1 to 10 using a for loop. Then write an equivalent\n",
    "program that prints the numbers 1 to 10 using a while loop."
   ]
  },
  {
   "cell_type": "code",
   "execution_count": 20,
   "id": "ac1dffa3",
   "metadata": {},
   "outputs": [
    {
     "name": "stdout",
     "output_type": "stream",
     "text": [
      "1 2 3 4 5 6 7 8 9 10 "
     ]
    }
   ],
   "source": [
    "# using foor loop\n",
    "for i in range(1, 11):\n",
    "    print(i, end = \" \")"
   ]
  },
  {
   "cell_type": "code",
   "execution_count": 22,
   "id": "a75b23bc",
   "metadata": {},
   "outputs": [
    {
     "name": "stdout",
     "output_type": "stream",
     "text": [
      "1 2 3 4 5 6 7 8 9 10 "
     ]
    }
   ],
   "source": [
    "# using while loop\n",
    "i = 1\n",
    "while(i <= 10):\n",
    "    print(i, end=\" \")\n",
    "    i = i+1"
   ]
  },
  {
   "cell_type": "markdown",
   "id": "eadcca29",
   "metadata": {},
   "source": [
    "13. If you had a function named bacon() inside a module named spam, how would you call it after\n",
    "importing spam?"
   ]
  },
  {
   "cell_type": "code",
   "execution_count": null,
   "id": "be9570e0",
   "metadata": {},
   "outputs": [],
   "source": [
    "# import spam as sp\n",
    "# sp.bacon()"
   ]
  }
 ],
 "metadata": {
  "kernelspec": {
   "display_name": "Python 3 (ipykernel)",
   "language": "python",
   "name": "python3"
  },
  "language_info": {
   "codemirror_mode": {
    "name": "ipython",
    "version": 3
   },
   "file_extension": ".py",
   "mimetype": "text/x-python",
   "name": "python",
   "nbconvert_exporter": "python",
   "pygments_lexer": "ipython3",
   "version": "3.9.12"
  }
 },
 "nbformat": 4,
 "nbformat_minor": 5
}
