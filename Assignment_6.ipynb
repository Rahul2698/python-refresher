{
 "cells": [
  {
   "cell_type": "markdown",
   "id": "33d40b48",
   "metadata": {},
   "source": [
    "1. What are escape characters, and how do you use them?"
   ]
  },
  {
   "cell_type": "code",
   "execution_count": 2,
   "id": "956ca53c",
   "metadata": {},
   "outputs": [],
   "source": [
    "# Escape character is a character that invokes an alternative interpretation on the following characters in a character sequence\n",
    "# Some frequently used escape characters are:\n",
    "# \\n : for new lines\n",
    "# \\t : for tab\n",
    "# \\' : for single quote\n",
    "# \\\\ : for backslash"
   ]
  },
  {
   "cell_type": "markdown",
   "id": "9008107e",
   "metadata": {},
   "source": [
    "2. What do the escape characters n and t stand for?"
   ]
  },
  {
   "cell_type": "code",
   "execution_count": 3,
   "id": "86073d4a",
   "metadata": {},
   "outputs": [],
   "source": [
    "# \\n : for new lines\n",
    "# \\t : for tab"
   ]
  },
  {
   "cell_type": "markdown",
   "id": "693f6607",
   "metadata": {},
   "source": [
    "3. What is the way to include backslash characters in a string?"
   ]
  },
  {
   "cell_type": "code",
   "execution_count": 4,
   "id": "60b92c6c",
   "metadata": {},
   "outputs": [],
   "source": [
    "# \\\\ : for backslash"
   ]
  },
  {
   "cell_type": "markdown",
   "id": "50e660e9",
   "metadata": {},
   "source": [
    "4. The string &quot;Howl&#39;s Moving Castle&quot; is a correct value. Why isn&#39;t the single quote character in the\n",
    "word Howl&#39;s not escaped a problem?"
   ]
  },
  {
   "cell_type": "code",
   "execution_count": 5,
   "id": "7810f310",
   "metadata": {},
   "outputs": [],
   "source": [
    "s = \"Howl's Moving Castle\""
   ]
  },
  {
   "cell_type": "code",
   "execution_count": 6,
   "id": "a5e00752",
   "metadata": {},
   "outputs": [
    {
     "data": {
      "text/plain": [
       "\"Howl's Moving Castle\""
      ]
     },
     "execution_count": 6,
     "metadata": {},
     "output_type": "execute_result"
    }
   ],
   "source": [
    "s"
   ]
  },
  {
   "cell_type": "code",
   "execution_count": 7,
   "id": "4dd51fdd",
   "metadata": {},
   "outputs": [],
   "source": [
    "# because we enclosed the string with double quotes"
   ]
  },
  {
   "cell_type": "markdown",
   "id": "13a658eb",
   "metadata": {},
   "source": [
    "5. How do you write a string of newlines if you don&#39;t want to use the n character?"
   ]
  },
  {
   "cell_type": "code",
   "execution_count": 8,
   "id": "d5ec0702",
   "metadata": {},
   "outputs": [],
   "source": [
    "st = \"\"\"my\n",
    "name is \n",
    "rahul\"\"\""
   ]
  },
  {
   "cell_type": "code",
   "execution_count": 9,
   "id": "e4446a46",
   "metadata": {},
   "outputs": [
    {
     "data": {
      "text/plain": [
       "'my\\nname is \\nrahul'"
      ]
     },
     "execution_count": 9,
     "metadata": {},
     "output_type": "execute_result"
    }
   ],
   "source": [
    "st"
   ]
  },
  {
   "cell_type": "code",
   "execution_count": 10,
   "id": "49980387",
   "metadata": {},
   "outputs": [],
   "source": [
    "# if we are not using \\n for new line, then we can use triple quotes"
   ]
  },
  {
   "cell_type": "markdown",
   "id": "389a98b4",
   "metadata": {},
   "source": [
    "6. What are the values of the given expressions?"
   ]
  },
  {
   "cell_type": "code",
   "execution_count": 16,
   "id": "8dcb6737",
   "metadata": {},
   "outputs": [
    {
     "data": {
      "text/plain": [
       "'e'"
      ]
     },
     "execution_count": 16,
     "metadata": {},
     "output_type": "execute_result"
    }
   ],
   "source": [
    "'Hello, world!'[1] # prints only index no 1 character"
   ]
  },
  {
   "cell_type": "code",
   "execution_count": 12,
   "id": "6534de0c",
   "metadata": {},
   "outputs": [
    {
     "data": {
      "text/plain": [
       "'Hello'"
      ]
     },
     "execution_count": 12,
     "metadata": {},
     "output_type": "execute_result"
    }
   ],
   "source": [
    "'Hello, world!'[0:5] # prints from 0th till 4th hcaracter"
   ]
  },
  {
   "cell_type": "code",
   "execution_count": 13,
   "id": "f9bcd530",
   "metadata": {},
   "outputs": [
    {
     "data": {
      "text/plain": [
       "'Hello'"
      ]
     },
     "execution_count": 13,
     "metadata": {},
     "output_type": "execute_result"
    }
   ],
   "source": [
    "'Hello, world!'[:5] # prints from beginning 0th till 4th character"
   ]
  },
  {
   "cell_type": "code",
   "execution_count": 14,
   "id": "2e6897ce",
   "metadata": {},
   "outputs": [
    {
     "data": {
      "text/plain": [
       "'lo, world!'"
      ]
     },
     "execution_count": 14,
     "metadata": {},
     "output_type": "execute_result"
    }
   ],
   "source": [
    "'Hello, world!'[3:] # prints from 3rd index till last index"
   ]
  },
  {
   "cell_type": "markdown",
   "id": "6ce604cb",
   "metadata": {},
   "source": [
    "7. What are the values of the following expressions?"
   ]
  },
  {
   "cell_type": "code",
   "execution_count": 17,
   "id": "ae80a0fb",
   "metadata": {},
   "outputs": [
    {
     "data": {
      "text/plain": [
       "'HELLO'"
      ]
     },
     "execution_count": 17,
     "metadata": {},
     "output_type": "execute_result"
    }
   ],
   "source": [
    "'Hello'.upper() #Converts all charecters to UPPERCASE"
   ]
  },
  {
   "cell_type": "code",
   "execution_count": 18,
   "id": "85b582dc",
   "metadata": {},
   "outputs": [
    {
     "data": {
      "text/plain": [
       "True"
      ]
     },
     "execution_count": 18,
     "metadata": {},
     "output_type": "execute_result"
    }
   ],
   "source": [
    "'Hello'.upper().isupper() # Returns True (after converting all characters to UPPERCASE)"
   ]
  },
  {
   "cell_type": "code",
   "execution_count": 19,
   "id": "9063aacc",
   "metadata": {},
   "outputs": [
    {
     "data": {
      "text/plain": [
       "'hello'"
      ]
     },
     "execution_count": 19,
     "metadata": {},
     "output_type": "execute_result"
    }
   ],
   "source": [
    "'Hello'.upper().lower() # Converts all characters first to UPPERCASE then to lowercase"
   ]
  },
  {
   "cell_type": "markdown",
   "id": "2e147bb7",
   "metadata": {},
   "source": [
    "8. What are the values of the following expressions?"
   ]
  },
  {
   "cell_type": "code",
   "execution_count": 20,
   "id": "b74c0819",
   "metadata": {},
   "outputs": [
    {
     "data": {
      "text/plain": [
       "['Remember,', 'remember,', 'the', 'fifth', 'of', 'July.']"
      ]
     },
     "execution_count": 20,
     "metadata": {},
     "output_type": "execute_result"
    }
   ],
   "source": [
    "'Remember, remember, the fifth of July.'.split() # Splits the words based for the space and making a list\n"
   ]
  },
  {
   "cell_type": "code",
   "execution_count": 21,
   "id": "e055f90b",
   "metadata": {},
   "outputs": [
    {
     "data": {
      "text/plain": [
       "'There-can-only-one.'"
      ]
     },
     "execution_count": 21,
     "metadata": {},
     "output_type": "execute_result"
    }
   ],
   "source": [
    "'-'.join('There can only one.'.split()) # replacing space with -"
   ]
  },
  {
   "cell_type": "markdown",
   "id": "b8b70edc",
   "metadata": {},
   "source": [
    "9. What are the methods for right-justifying, left-justifying, and centering a string?"
   ]
  },
  {
   "cell_type": "code",
   "execution_count": 22,
   "id": "f47d8077",
   "metadata": {},
   "outputs": [],
   "source": [
    "# right-justifying: rjust()\n",
    "# left-justifying: ljust()\n",
    "# centering: center()"
   ]
  },
  {
   "cell_type": "markdown",
   "id": "0acd5dec",
   "metadata": {},
   "source": [
    "10. What is the best way to remove whitespace characters from the start or end?"
   ]
  },
  {
   "cell_type": "code",
   "execution_count": 23,
   "id": "237764c1",
   "metadata": {},
   "outputs": [],
   "source": [
    "s1 = '     Rahul     '"
   ]
  },
  {
   "cell_type": "code",
   "execution_count": 24,
   "id": "d7a8bb82",
   "metadata": {},
   "outputs": [
    {
     "data": {
      "text/plain": [
       "'     Rahul     '"
      ]
     },
     "execution_count": 24,
     "metadata": {},
     "output_type": "execute_result"
    }
   ],
   "source": [
    "s1"
   ]
  },
  {
   "cell_type": "code",
   "execution_count": 27,
   "id": "f9e1f6fc",
   "metadata": {},
   "outputs": [],
   "source": [
    "s1 = s1.strip()"
   ]
  },
  {
   "cell_type": "code",
   "execution_count": 28,
   "id": "b412c675",
   "metadata": {},
   "outputs": [
    {
     "data": {
      "text/plain": [
       "'Rahul'"
      ]
     },
     "execution_count": 28,
     "metadata": {},
     "output_type": "execute_result"
    }
   ],
   "source": [
    "s1"
   ]
  },
  {
   "cell_type": "code",
   "execution_count": 29,
   "id": "43d75625",
   "metadata": {},
   "outputs": [],
   "source": [
    "# strip() function can be useful"
   ]
  },
  {
   "cell_type": "code",
   "execution_count": null,
   "id": "3fd8e3da",
   "metadata": {},
   "outputs": [],
   "source": []
  }
 ],
 "metadata": {
  "kernelspec": {
   "display_name": "Python 3 (ipykernel)",
   "language": "python",
   "name": "python3"
  },
  "language_info": {
   "codemirror_mode": {
    "name": "ipython",
    "version": 3
   },
   "file_extension": ".py",
   "mimetype": "text/x-python",
   "name": "python",
   "nbconvert_exporter": "python",
   "pygments_lexer": "ipython3",
   "version": "3.9.12"
  }
 },
 "nbformat": 4,
 "nbformat_minor": 5
}
