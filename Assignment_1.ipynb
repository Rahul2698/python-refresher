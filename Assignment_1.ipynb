{
 "cells": [
  {
   "cell_type": "markdown",
   "id": "6e51f586",
   "metadata": {},
   "source": [
    "1. In the below elements which of them are values or an expression? eg:- values can be\n",
    "integer or string and expressions will be mathematical operators.\n",
    "*\n",
    "'hello'\n",
    "-87.8\n",
    "-\n",
    "/\n",
    "+\n",
    "6"
   ]
  },
  {
   "cell_type": "code",
   "execution_count": 1,
   "id": "0e531da3",
   "metadata": {},
   "outputs": [],
   "source": [
    "\n",
    "# 1. * => operator\n",
    "# 2. 'hello' => value\n",
    "# 3. -87.8 => value\n",
    "# 4. - => operator\n",
    "# 5. / => operator\n",
    "# 6. + => operator\n",
    "# 7. 6 => value"
   ]
  },
  {
   "cell_type": "markdown",
   "id": "109a2725",
   "metadata": {},
   "source": [
    "2. What is the difference between string and variable?"
   ]
  },
  {
   "cell_type": "code",
   "execution_count": 2,
   "id": "c793db1f",
   "metadata": {},
   "outputs": [],
   "source": [
    "# string is a datatype, but variable is a container that is used to store any kind of value (of any type)"
   ]
  },
  {
   "cell_type": "markdown",
   "id": "88d1996d",
   "metadata": {},
   "source": [
    "3. Describe three different data types."
   ]
  },
  {
   "cell_type": "code",
   "execution_count": 3,
   "id": "86d95ddc",
   "metadata": {},
   "outputs": [],
   "source": [
    "# int -> int is a datatype which dnotes whole numbers (positive, negative or zero) [ex: -10, 0, 10]\n",
    "# float -> float is a datatype which denotes real numbers. [ex: -10.0, 0.0, 10.0]\n",
    "# bool -> bool is a datatype which denotes boolean result.It is used for any kind comprarison [ex: True or False]"
   ]
  },
  {
   "cell_type": "markdown",
   "id": "2fff0db6",
   "metadata": {},
   "source": [
    "4. What is an expression made up of? What do all expressions do?"
   ]
  },
  {
   "cell_type": "code",
   "execution_count": 4,
   "id": "56ad0c4a",
   "metadata": {},
   "outputs": [],
   "source": [
    "# An expression is a combination of operators and operands that is interpreted to produce some other value. \n",
    "# And execution happened according to the precedence of the operators.\n",
    "# Example: * / % has higher precedence than + -\n",
    "\n",
    "# Expressions are generally calculates each value according to the operands and at the end provides a resultant value."
   ]
  },
  {
   "cell_type": "markdown",
   "id": "80f60512",
   "metadata": {},
   "source": [
    "5. This assignment statements, like spam = 10. What is the difference between an\n",
    "expression and a statement?"
   ]
  },
  {
   "cell_type": "code",
   "execution_count": 5,
   "id": "6be1e6ac",
   "metadata": {},
   "outputs": [],
   "source": [
    "# An Expression always evaluates to a value. \n",
    "# And, A statement does something, like creating a variable or displaying a value, it only does whatever the statement says.\n",
    "\n",
    "# In given example: spam = 10\n",
    "# As a statement point of view, 10 is assigned to variable 'spam'"
   ]
  },
  {
   "cell_type": "markdown",
   "id": "89add810",
   "metadata": {},
   "source": [
    "6. After running the following code, what does the variable bacon contain?\n",
    "\n",
    "bacon = 22\n",
    "bacon + 1"
   ]
  },
  {
   "cell_type": "code",
   "execution_count": 6,
   "id": "3ed2ac58",
   "metadata": {},
   "outputs": [],
   "source": [
    "# in second line, we just writing the expression, not doing reassignment in 'bacon' variable. So, it remains hold value 22 only"
   ]
  },
  {
   "cell_type": "markdown",
   "id": "47a882f5",
   "metadata": {},
   "source": [
    "7. What should the values of the following two terms be?\n",
    "'spam' + 'spamspam'\n",
    "'spam' * 3"
   ]
  },
  {
   "cell_type": "code",
   "execution_count": 7,
   "id": "23b72e60",
   "metadata": {},
   "outputs": [],
   "source": [
    "# bot are providing same value as output, which is: 'spamspamspam'"
   ]
  },
  {
   "cell_type": "markdown",
   "id": "068f9ac1",
   "metadata": {},
   "source": [
    "8. Why is eggs a valid variable name while 100 is invalid?"
   ]
  },
  {
   "cell_type": "code",
   "execution_count": 8,
   "id": "ca1c3e94",
   "metadata": {},
   "outputs": [],
   "source": [
    "# because variable name should be always starts with either alphabet or underscore, not with digit."
   ]
  },
  {
   "cell_type": "markdown",
   "id": "c1a509e8",
   "metadata": {},
   "source": [
    "9. What three functions can be used to get the integer, floating-point number, or string\n",
    "version of a value?"
   ]
  },
  {
   "cell_type": "code",
   "execution_count": 9,
   "id": "022dd017",
   "metadata": {},
   "outputs": [],
   "source": [
    "# int()\n",
    "# float()\n",
    "# str()"
   ]
  },
  {
   "cell_type": "markdown",
   "id": "29a969cb",
   "metadata": {},
   "source": [
    "10. Why does this expression cause an error? How can you fix it?\n",
    "'I have eaten ' + 99 + ' burritos.'"
   ]
  },
  {
   "cell_type": "code",
   "execution_count": 10,
   "id": "6e371640",
   "metadata": {},
   "outputs": [],
   "source": [
    "# It's cause an error because we are trying to concatenate string with integer, which is not possible.\n",
    "# Interpreter is confused whether need to perform addition or concatenation.\n",
    "\n",
    "# To fix this issue, we have to convert that integer value to an string."
   ]
  }
 ],
 "metadata": {
  "kernelspec": {
   "display_name": "Python 3 (ipykernel)",
   "language": "python",
   "name": "python3"
  },
  "language_info": {
   "codemirror_mode": {
    "name": "ipython",
    "version": 3
   },
   "file_extension": ".py",
   "mimetype": "text/x-python",
   "name": "python",
   "nbconvert_exporter": "python",
   "pygments_lexer": "ipython3",
   "version": "3.9.12"
  }
 },
 "nbformat": 4,
 "nbformat_minor": 5
}
