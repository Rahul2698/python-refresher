{
 "cells": [
  {
   "cell_type": "markdown",
   "id": "1d88c34b",
   "metadata": {},
   "source": [
    "1. What does an empty dictionary&#39;s code look like?"
   ]
  },
  {
   "cell_type": "code",
   "execution_count": 1,
   "id": "5b234068",
   "metadata": {},
   "outputs": [],
   "source": [
    "d = {}"
   ]
  },
  {
   "cell_type": "code",
   "execution_count": 2,
   "id": "c0b0b189",
   "metadata": {},
   "outputs": [
    {
     "data": {
      "text/plain": [
       "dict"
      ]
     },
     "execution_count": 2,
     "metadata": {},
     "output_type": "execute_result"
    }
   ],
   "source": [
    "type(d)"
   ]
  },
  {
   "cell_type": "markdown",
   "id": "7f543a73",
   "metadata": {},
   "source": [
    "2. What is the value of a dictionary value with the key &#39;foo&#39; and the value 42?"
   ]
  },
  {
   "cell_type": "code",
   "execution_count": 3,
   "id": "c70a7f99",
   "metadata": {},
   "outputs": [],
   "source": [
    "d = {'foo' : 42}"
   ]
  },
  {
   "cell_type": "code",
   "execution_count": 6,
   "id": "94798064",
   "metadata": {},
   "outputs": [
    {
     "data": {
      "text/plain": [
       "42"
      ]
     },
     "execution_count": 6,
     "metadata": {},
     "output_type": "execute_result"
    }
   ],
   "source": [
    "d['foo']"
   ]
  },
  {
   "cell_type": "markdown",
   "id": "63caa846",
   "metadata": {},
   "source": [
    "3. What is the most significant distinction between a dictionary and a list?"
   ]
  },
  {
   "cell_type": "code",
   "execution_count": 8,
   "id": "5b74f392",
   "metadata": {},
   "outputs": [],
   "source": [
    "# items in dictionaries are accessed via keys and not via their position.\n",
    "# but for list items can be accessed by their index"
   ]
  },
  {
   "cell_type": "markdown",
   "id": "48eb3de5",
   "metadata": {},
   "source": [
    "4. What happens if you try to access spam[&#39;foo&#39;] if spam is {&#39;bar&#39;: 100}?"
   ]
  },
  {
   "cell_type": "code",
   "execution_count": 9,
   "id": "5218e5fe",
   "metadata": {},
   "outputs": [],
   "source": [
    "spam = {'bar' : 100}"
   ]
  },
  {
   "cell_type": "code",
   "execution_count": 10,
   "id": "d2ac40a9",
   "metadata": {},
   "outputs": [
    {
     "ename": "KeyError",
     "evalue": "'foo'",
     "output_type": "error",
     "traceback": [
      "\u001b[1;31m---------------------------------------------------------------------------\u001b[0m",
      "\u001b[1;31mKeyError\u001b[0m                                  Traceback (most recent call last)",
      "Input \u001b[1;32mIn [10]\u001b[0m, in \u001b[0;36m<cell line: 1>\u001b[1;34m()\u001b[0m\n\u001b[1;32m----> 1\u001b[0m \u001b[43mspam\u001b[49m\u001b[43m[\u001b[49m\u001b[38;5;124;43m'\u001b[39;49m\u001b[38;5;124;43mfoo\u001b[39;49m\u001b[38;5;124;43m'\u001b[39;49m\u001b[43m]\u001b[49m\n",
      "\u001b[1;31mKeyError\u001b[0m: 'foo'"
     ]
    }
   ],
   "source": [
    "spam['foo']"
   ]
  },
  {
   "cell_type": "code",
   "execution_count": 11,
   "id": "08565942",
   "metadata": {},
   "outputs": [],
   "source": [
    "# we will be getting KeyError"
   ]
  },
  {
   "cell_type": "markdown",
   "id": "fbdd8c71",
   "metadata": {},
   "source": [
    "5. If a dictionary is stored in spam, what is the difference between the expressions &#39;cat&#39; in spam and\n",
    "&#39;cat&#39; in spam.keys()?"
   ]
  },
  {
   "cell_type": "code",
   "execution_count": null,
   "id": "b074ff90",
   "metadata": {},
   "outputs": [],
   "source": [
    "# 'cat' in spam means in spam variable whether 'cat' is availes or not as a value, \n",
    "# but spam.keys() will be checking 'cat' is available as a key or not"
   ]
  },
  {
   "cell_type": "markdown",
   "id": "a17061f7",
   "metadata": {},
   "source": [
    "6. If a dictionary is stored in spam, what is the difference between the expressions &#39;cat&#39; in spam and\n",
    "&#39;cat&#39; in spam.values()?"
   ]
  },
  {
   "cell_type": "code",
   "execution_count": null,
   "id": "e16cb899",
   "metadata": {},
   "outputs": [],
   "source": [
    "# There is no difference. The in operator checks whether a value exists as a key in the dictionary. \n",
    "# 'cat' in spam checks whether there is a 'cat' key in the dictionary, \n",
    "# while 'cat' in spam. values() checks whether there is a value 'cat' for one of the keys in spam ."
   ]
  },
  {
   "cell_type": "markdown",
   "id": "f97e4107",
   "metadata": {},
   "source": [
    "7. What is a shortcut for the following code?"
   ]
  },
  {
   "cell_type": "code",
   "execution_count": 13,
   "id": "1f64dc5d",
   "metadata": {},
   "outputs": [],
   "source": [
    "if 'color' not in spam:\n",
    "    spam['color'] = 'black'\n",
    "    \n",
    "# it's searching 'color' as a key, if that is not found, then kew key-value pair is added to spam dict"
   ]
  },
  {
   "cell_type": "code",
   "execution_count": 14,
   "id": "d8d5f427",
   "metadata": {},
   "outputs": [
    {
     "data": {
      "text/plain": [
       "{'bar': 100, 'color': 'black'}"
      ]
     },
     "execution_count": 14,
     "metadata": {},
     "output_type": "execute_result"
    }
   ],
   "source": [
    "spam"
   ]
  },
  {
   "cell_type": "markdown",
   "id": "370ff8ee",
   "metadata": {},
   "source": [
    "8. How do you &quot;pretty print&quot; dictionary values using which module and function?"
   ]
  },
  {
   "cell_type": "code",
   "execution_count": 15,
   "id": "d7af521c",
   "metadata": {},
   "outputs": [],
   "source": [
    "# we need to use pprint moduole's pprint() function"
   ]
  },
  {
   "cell_type": "code",
   "execution_count": null,
   "id": "248d4bb9",
   "metadata": {},
   "outputs": [],
   "source": []
  }
 ],
 "metadata": {
  "kernelspec": {
   "display_name": "Python 3 (ipykernel)",
   "language": "python",
   "name": "python3"
  },
  "language_info": {
   "codemirror_mode": {
    "name": "ipython",
    "version": 3
   },
   "file_extension": ".py",
   "mimetype": "text/x-python",
   "name": "python",
   "nbconvert_exporter": "python",
   "pygments_lexer": "ipython3",
   "version": "3.9.12"
  }
 },
 "nbformat": 4,
 "nbformat_minor": 5
}
